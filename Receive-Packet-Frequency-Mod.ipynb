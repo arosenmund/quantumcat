{
 "cells": [
  {
   "cell_type": "markdown",
   "metadata": {},
   "source": [
    "# Recieve UDP Packets and Visualize"
   ]
  },
  {
   "cell_type": "code",
   "execution_count": null,
   "metadata": {},
   "outputs": [],
   "source": []
  },
  {
   "cell_type": "code",
   "execution_count": 1,
   "metadata": {},
   "outputs": [
    {
     "name": "stderr",
     "output_type": "stream",
     "text": [
      "WARNING: Wireshark is installed, but cannot read manuf !\n"
     ]
    },
    {
     "name": "stdout",
     "output_type": "stream",
     "text": [
      "Available network interfaces:\n",
      "{81DBAD8C-689F-475B-8591-54D69E10BA9A}\n",
      "{2A4B31E9-B6E2-471C-A85F-BAEA51690661}\n",
      "{14732A35-A487-4C35-9A20-97F85400D23A}\n",
      "{8F72A598-1E86-410B-A098-7188588F7919}\n",
      "\\Device\\NPF_Loopback\n",
      "{85A90889-9038-4080-B018-D64F0C71CB33}\n"
     ]
    }
   ],
   "source": [
    "from scapy.all import get_if_list\n",
    "\n",
    "def list_interfaces():\n",
    "    interfaces = get_if_list()\n",
    "    print(\"Available network interfaces:\")\n",
    "    for interface in interfaces:\n",
    "        print(interface)\n",
    "\n",
    "if __name__ == \"__main__\":\n",
    "    list_interfaces()"
   ]
  },
  {
   "cell_type": "code",
   "execution_count": 6,
   "metadata": {},
   "outputs": [
    {
     "name": "stdout",
     "output_type": "stream",
     "text": [
      "Starting packet capture...\n"
     ]
    }
   ],
   "source": [
    "from scapy.all import sniff, ICMP\n",
    "import numpy as np\n",
    "import time\n",
    "\n",
    "def handle_packet(packet):\n",
    "    \"\"\"\n",
    "    Callback function to handle each packet and log the timestamp.\n",
    "    \"\"\"\n",
    "    global timestamps\n",
    "    timestamps.append(time.time())\n",
    "\n",
    "def decode_frequencies(timestamps):\n",
    "    \"\"\"\n",
    "    Decode binary data from packet arrival timestamps.\n",
    "    \"\"\"\n",
    "    # Calculate intervals\n",
    "    intervals = np.diff(timestamps)\n",
    "    \n",
    "    # Frequency estimation\n",
    "    estimated_frequencies = 1 / intervals\n",
    "    \n",
    "    # Map frequencies to binary data\n",
    "    binary_data = ''\n",
    "    for freq in estimated_frequencies:\n",
    "        if np.isclose(freq, 1, atol=0.1):\n",
    "            binary_data += '0'\n",
    "        elif np.isclose(freq, 2, atol=0.1):\n",
    "            binary_data += '1'\n",
    "    \n",
    "    return binary_data\n",
    "\n",
    "# List to store packet timestamps\n",
    "timestamps = []\n",
    "\n",
    "# Start packet sniffing\n",
    "print(\"Starting packet capture...\")\n",
    "sniff(iface='127.0.0.1', filter=\"icmp\", prn=handle_packet, count=100)  # Adjust count based on expected number of packets\n",
    "\n",
    "# Decode the frequencies after capture\n",
    "binary_data = decode_frequencies(timestamps)\n",
    "print(f\"Decoded binary data: {binary_data}\")"
   ]
  },
  {
   "cell_type": "markdown",
   "metadata": {},
   "source": [
    "# Listen for UDP Port & Decode"
   ]
  },
  {
   "cell_type": "code",
   "execution_count": 14,
   "metadata": {},
   "outputs": [
    {
     "name": "stdout",
     "output_type": "stream",
     "text": [
      "Starting UDP packet capture...\n",
      "Packet received at 1714619362.053636\n",
      "Packet received at 1714619365.0598936\n",
      "Packet received at 1714619367.5676754\n",
      "Packet received at 1714619370.5804613\n",
      "Packet received at 1714619373.09425\n",
      "Packet received at 1714619375.6105428\n",
      "Packet received at 1714619378.1179886\n",
      "Packet received at 1714619380.6296937\n",
      "Packet received at 1714619383.6455388\n",
      "Packet received at 1714619386.6557772\n"
     ]
    },
    {
     "data": {
      "image/png": "[encoded data removed]",
      "text/plain": [
       "<Figure size 1000x400 with 1 Axes>"
      ]
     },
     "metadata": {},
     "output_type": "display_data"
    },
    {
     "name": "stdout",
     "output_type": "stream",
     "text": [
      "Decoded binary data: \n"
     ]
    }
   ],
   "source": [
    "from scapy.all import sniff, IP, UDP\n",
    "import numpy as np\n",
    "import matplotlib.pyplot as plt\n",
    "import time\n",
    "\n",
    "timestamps = []  # Global list to store packet timestamps\n",
    "\n",
    "def handle_packet(packet):\n",
    "    \"\"\" Callback function to handle each received packet and log the timestamp. \"\"\"\n",
    "    if packet.haslayer(UDP) and packet[IP].src == expected_src_ip:\n",
    "        current_time = time.time()\n",
    "        timestamps.append(current_time)\n",
    "        print(f\"Packet received at {current_time}\")\n",
    "\n",
    "def plot_waveform(timestamps):\n",
    "    \"\"\" Plot the waveform from packet intervals. \"\"\"\n",
    "    intervals = np.diff(timestamps)  # Calculate intervals between packet receptions\n",
    "    times = np.cumsum(intervals)  # Calculate cumulative times for plotting\n",
    "    frequencies = 1 / intervals  # Frequency calculation from intervals\n",
    "\n",
    "    plt.figure(figsize=(10, 4))\n",
    "    plt.step(times, frequencies, where='post', label='Frequency vs. Time')\n",
    "    plt.title('Received Frequency Modulation')\n",
    "    plt.xlabel('Time (s)')\n",
    "    plt.ylabel('Frequency (Hz)')\n",
    "    plt.grid(True)\n",
    "    plt.legend()\n",
    "    plt.show()\n",
    "    \n",
    "     # Decoding binary data\n",
    "    binary_data = ''\n",
    "    for freq in frequencies:\n",
    "        if np.isclose(freq, 1, atol=0.1):  # Assuming frequency of '0' is around 1 Hz\n",
    "            binary_data += '0'\n",
    "        elif np.isclose(freq, 2, atol=0.1):  # Assuming frequency of '1' is around 2 Hz\n",
    "            binary_data += '1'\n",
    "\n",
    "    print(\"Decoded binary data:\", binary_data)\n",
    "\n",
    "def main():\n",
    "    # Network configuration\n",
    "    global expected_src_ip\n",
    "    expected_src_ip = \"192.168.1.155\"  # Adjust as necessary\n",
    "    listen_port = 666  # UDP port to listen on\n",
    "\n",
    "    # Start packet sniffing\n",
    "    print(\"Starting UDP packet capture...\")\n",
    "    sniff(filter=f\"udp and port {listen_port}\", prn=handle_packet, store=False, count=10)  # Adjust timeout as needed\n",
    "\n",
    "    # After capture process and plot, ensure there are enough timestamps\n",
    "    if len(timestamps) > 1:\n",
    "        plot_waveform(timestamps)\n",
    "\n",
    "if __name__ == \"__main__\":\n",
    "    main()"
   ]
  },
  {
   "cell_type": "code",
   "execution_count": null,
   "metadata": {},
   "outputs": [],
   "source": []
  }
 ],
 "metadata": {
  "kernelspec": {
   "display_name": "Python 3",
   "language": "python",
   "name": "python3"
  },
  "language_info": {
   "codemirror_mode": {
    "name": "ipython",
    "version": 3
   },
   "file_extension": ".py",
   "mimetype": "text/x-python",
   "name": "python",
   "nbconvert_exporter": "python",
   "pygments_lexer": "ipython3",
   "version": "3.11.9"
  }
 },
 "nbformat": 4,
 "nbformat_minor": 2
}
