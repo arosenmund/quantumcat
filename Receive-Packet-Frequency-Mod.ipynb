{
 "cells": [
  {
   "cell_type": "markdown",
   "metadata": {},
   "source": [
    "# Receive Frequency Modulation"
   ]
  },
  {
   "cell_type": "code",
   "execution_count": 1,
   "metadata": {},
   "outputs": [
    {
     "name": "stderr",
     "output_type": "stream",
     "text": [
      "WARNING: Wireshark is installed, but cannot read manuf !\n"
     ]
    },
    {
     "name": "stdout",
     "output_type": "stream",
     "text": [
      "Available network interfaces:\n",
      "{81DBAD8C-689F-475B-8591-54D69E10BA9A}\n",
      "{2A4B31E9-B6E2-471C-A85F-BAEA51690661}\n",
      "{14732A35-A487-4C35-9A20-97F85400D23A}\n",
      "{8F72A598-1E86-410B-A098-7188588F7919}\n",
      "\\Device\\NPF_Loopback\n",
      "{85A90889-9038-4080-B018-D64F0C71CB33}\n"
     ]
    }
   ],
   "source": [
    "from scapy.all import get_if_list\n",
    "\n",
    "def list_interfaces():\n",
    "    interfaces = get_if_list()\n",
    "    print(\"Available network interfaces:\")\n",
    "    for interface in interfaces:\n",
    "        print(interface)\n",
    "\n",
    "if __name__ == \"__main__\":\n",
    "    list_interfaces()"
   ]
  },
  {
   "cell_type": "markdown",
   "metadata": {},
   "source": [
    "## IP Listen, Plot & Decode"
   ]
  },
  {
   "cell_type": "code",
   "execution_count": null,
   "metadata": {},
   "outputs": [],
   "source": [
    "from scapy.all import sniff, IP, UDP\n",
    "import numpy as np\n",
    "import matplotlib.pyplot as plt\n",
    "import time\n",
    "\n",
    "timestamps = []  # Global list to store packet timestamps\n",
    "\n",
    "def handle_packet(packet):\n",
    "    \"\"\" Callback function to handle each received packet and log the timestamp. \"\"\"\n",
    "    if packet.haslayer(ICMP) and packet[IP].src == expected_src_ip:\n",
    "        current_time = time.time()\n",
    "        timestamps.append(current_time)\n",
    "        print(f\"Packet received at {current_time}\")\n",
    "\n",
    "def plot_waveform(timestamps):\n",
    "    \"\"\" Plot the waveform from packet intervals. \"\"\"\n",
    "    intervals = np.diff(timestamps)  # Calculate intervals between packet receptions\n",
    "    times = np.cumsum(intervals)  # Calculate cumulative times for plotting\n",
    "    frequencies = 1 / intervals  # Frequency calculation from intervals\n",
    "\n",
    "    plt.figure(figsize=(10, 4))\n",
    "    plt.step(times, frequencies, where='post', label='Frequency vs. Time')\n",
    "    plt.title('Received Frequency Modulation')\n",
    "    plt.xlabel('Time (s)')\n",
    "    plt.ylabel('Frequency (Hz)')\n",
    "    plt.grid(True)\n",
    "    plt.legend()\n",
    "    plt.show()\n",
    "    \n",
    "     # Decoding binary data\n",
    "    binary_data = ''\n",
    "    for freq in frequencies:\n",
    "        if np.isclose(freq, 0.33, atol=0.05):  # Assuming frequency of '0' is around 1 Hz\n",
    "            binary_data += '0'\n",
    "        elif np.isclose(freq, 0.39, atol=0.05):  # Assuming frequency of '1' is around 2 Hz\n",
    "            binary_data += '1'\n",
    "\n",
    "    print(\"Decoded binary data:\", binary_data)\n",
    "\n",
    "def main():\n",
    "    # Network configuration\n",
    "    global expected_src_ip\n",
    "    expected_src_ip = \"192.168.1.155\"  # Adjust as necessary\n",
    "    #listen_port = 666  # UDP port to listen on\n",
    "\n",
    "    # Start packet sniffing\n",
    "    print(\"Starting UDP packet capture...\")\n",
    "    sniff(filter=\"icmp\", prn=handle_packet, store=False, count=10)  # Adjust timeout as needed\n",
    "\n",
    "    # After capture process and plot, ensure there are enough timestamps\n",
    "    if len(timestamps) > 1:\n",
    "        plot_waveform(timestamps)\n",
    "\n",
    "if __name__ == \"__main__\":\n",
    "    main()"
   ]
  },
  {
   "cell_type": "markdown",
   "metadata": {},
   "source": [
    "## ICMP Listen, Plot, & Decode"
   ]
  },
  {
   "cell_type": "code",
   "execution_count": 23,
   "metadata": {},
   "outputs": [
    {
     "name": "stdout",
     "output_type": "stream",
     "text": [
      "Starting UDP packet capture...\n",
      "Packet received at 1714632977.745535\n",
      "Packet received at 1714632980.7660277\n",
      "Packet received at 1714632983.2798176\n",
      "Packet received at 1714632985.8001392\n",
      "Packet received at 1714632988.3169332\n",
      "Packet received at 1714632991.3267207\n",
      "Packet received at 1714632993.845367\n",
      "Packet received at 1714632996.3531525\n",
      "Packet received at 1714632998.866486\n"
     ]
    },
    {
     "data": {
      "image/png": "[encoded data removed]",
      "text/plain": [
       "<Figure size 1000x400 with 1 Axes>"
      ]
     },
     "metadata": {},
     "output_type": "display_data"
    },
    {
     "name": "stdout",
     "output_type": "stream",
     "text": [
      "Decoded binary data: 01110111\n"
     ]
    }
   ],
   "source": [
    "from scapy.all import sniff, IP, UDP\n",
    "import numpy as np\n",
    "import matplotlib.pyplot as plt\n",
    "import time\n",
    "\n",
    "timestamps = []  # Global list to store packet timestamps\n",
    "\n",
    "def handle_packet(packet):\n",
    "    \"\"\" Callback function to handle each received packet and log the timestamp. \"\"\"\n",
    "    if packet.haslayer(ICMP) and packet[IP].src == expected_src_ip:\n",
    "        current_time = time.time()\n",
    "        timestamps.append(current_time)\n",
    "        print(f\"Packet received at {current_time}\")\n",
    "\n",
    "def plot_waveform(timestamps):\n",
    "    \"\"\" Plot the waveform from packet intervals. \"\"\"\n",
    "    intervals = np.diff(timestamps)  # Calculate intervals between packet receptions\n",
    "    times = np.cumsum(intervals)  # Calculate cumulative times for plotting\n",
    "    frequencies = 1 / intervals  # Frequency calculation from intervals\n",
    "\n",
    "    plt.figure(figsize=(10, 4))\n",
    "    plt.step(times, frequencies, where='post', label='Frequency vs. Time')\n",
    "    plt.title('Received Frequency Modulation')\n",
    "    plt.xlabel('Time (s)')\n",
    "    plt.ylabel('Frequency (Hz)')\n",
    "    plt.grid(True)\n",
    "    plt.legend()\n",
    "    plt.show()\n",
    "    \n",
    "     # Decoding binary data\n",
    "    binary_data = ''\n",
    "    for freq in frequencies:\n",
    "        if np.isclose(freq, 0.33, atol=0.05):  # Assuming frequency of '0' is around 1 Hz\n",
    "            binary_data += '0'\n",
    "        elif np.isclose(freq, 0.39, atol=0.05):  # Assuming frequency of '1' is around 2 Hz\n",
    "            binary_data += '1'\n",
    "\n",
    "    print(\"Decoded binary data:\", binary_data)\n",
    "\n",
    "def main():\n",
    "    # Network configuration\n",
    "    global expected_src_ip\n",
    "    expected_src_ip = \"192.168.1.155\"  # Adjust as necessary\n",
    "    #listen_port = 666  # UDP port to listen on\n",
    "\n",
    "    # Start packet sniffing\n",
    "    print(\"Starting UDP packet capture...\")\n",
    "    sniff(filter=\"icmp\", prn=handle_packet, store=False, count=10)  # Adjust timeout as needed\n",
    "\n",
    "    # After capture process and plot, ensure there are enough timestamps\n",
    "    if len(timestamps) > 1:\n",
    "        plot_waveform(timestamps)\n",
    "\n",
    "if __name__ == \"__main__\":\n",
    "    main()"
   ]
  },
  {
   "cell_type": "markdown",
   "metadata": {},
   "source": [
    "## Listen for UDP Port & Decode"
   ]
  },
  {
   "cell_type": "code",
   "execution_count": 16,
   "metadata": {},
   "outputs": [
    {
     "name": "stdout",
     "output_type": "stream",
     "text": [
      "Starting UDP packet capture...\n",
      "Packet received at 1714621132.6630318\n",
      "Packet received at 1714621135.680281\n",
      "Packet received at 1714621138.1960688\n",
      "Packet received at 1714621141.2158747\n",
      "Packet received at 1714621143.7291858\n",
      "Packet received at 1714621146.2369692\n",
      "Packet received at 1714621148.7501574\n",
      "Packet received at 1714621151.2639492\n",
      "Packet received at 1714621154.2791932\n",
      "Packet received at 1714621157.29544\n"
     ]
    },
    {
     "data": {
      "image/png": "[encoded data removed]",
      "text/plain": [
       "<Figure size 1000x400 with 1 Axes>"
      ]
     },
     "metadata": {},
     "output_type": "display_data"
    },
    {
     "name": "stdout",
     "output_type": "stream",
     "text": [
      "Decoded binary data: 010111100\n"
     ]
    }
   ],
   "source": [
    "from scapy.all import sniff, IP, UDP\n",
    "import numpy as np\n",
    "import matplotlib.pyplot as plt\n",
    "import time\n",
    "\n",
    "timestamps = []  # Global list to store packet timestamps\n",
    "\n",
    "def handle_packet(packet):\n",
    "    \"\"\" Callback function to handle each received packet and log the timestamp. \"\"\"\n",
    "    if packet.haslayer(UDP) and packet[IP].src == expected_src_ip:\n",
    "        current_time = time.time()\n",
    "        timestamps.append(current_time)\n",
    "        print(f\"Packet received at {current_time}\")\n",
    "\n",
    "def plot_waveform(timestamps):\n",
    "    \"\"\" Plot the waveform from packet intervals. \"\"\"\n",
    "    intervals = np.diff(timestamps)  # Calculate intervals between packet receptions\n",
    "    times = np.cumsum(intervals)  # Calculate cumulative times for plotting\n",
    "    frequencies = 1 / intervals  # Frequency calculation from intervals\n",
    "\n",
    "    plt.figure(figsize=(10, 4))\n",
    "    plt.step(times, frequencies, where='post', label='Frequency vs. Time')\n",
    "    plt.title('Received Frequency Modulation')\n",
    "    plt.xlabel('Time (s)')\n",
    "    plt.ylabel('Frequency (Hz)')\n",
    "    plt.grid(True)\n",
    "    plt.legend()\n",
    "    plt.show()\n",
    "    \n",
    "     # Decoding binary data\n",
    "    binary_data = ''\n",
    "    for freq in frequencies:\n",
    "        if np.isclose(freq, 0.33, atol=0.05):  # Assuming frequency of '0' is around 1 Hz\n",
    "            binary_data += '0'\n",
    "        elif np.isclose(freq, 0.39, atol=0.05):  # Assuming frequency of '1' is around 2 Hz\n",
    "            binary_data += '1'\n",
    "\n",
    "    print(\"Decoded binary data:\", binary_data)\n",
    "\n",
    "def main():\n",
    "    # Network configuration\n",
    "    global expected_src_ip\n",
    "    expected_src_ip = \"192.168.1.155\"  # Adjust as necessary\n",
    "    listen_port = 666  # UDP port to listen on\n",
    "\n",
    "    # Start packet sniffing\n",
    "    print(\"Starting UDP packet capture...\")\n",
    "    sniff(filter=f\"udp and port {listen_port}\", prn=handle_packet, store=False, count=10)  # Adjust timeout as needed\n",
    "\n",
    "    # After capture process and plot, ensure there are enough timestamps\n",
    "    if len(timestamps) > 1:\n",
    "        plot_waveform(timestamps)\n",
    "\n",
    "if __name__ == \"__main__\":\n",
    "    main()"
   ]
  },
  {
   "cell_type": "markdown",
   "metadata": {},
   "source": [
    "## TCP Attempt Potentially Bi-Directional"
   ]
  },
  {
   "cell_type": "code",
   "execution_count": 17,
   "metadata": {},
   "outputs": [
    {
     "name": "stdout",
     "output_type": "stream",
     "text": [
      "Starting TCP packet capture...\n",
      "TCP packet received at 1714622462.4854963: S\n"
     ]
    }
   ],
   "source": [
    "from scapy.all import sniff, IP, TCP\n",
    "import numpy as np\n",
    "import matplotlib.pyplot as plt\n",
    "import time\n",
    "\n",
    "timestamps = []  # Global list to store packet timestamps\n",
    "\n",
    "def handle_packet(packet):\n",
    "    \"\"\" Callback function to handle each received packet and log the timestamp. \"\"\"\n",
    "    if packet.haslayer(TCP) and packet[IP].src == expected_src_ip:\n",
    "        current_time = time.time()\n",
    "        timestamps.append(current_time)\n",
    "        print(f\"TCP packet received at {current_time}: {packet[TCP].flags}\")\n",
    "\n",
    "def plot_and_decode_waveform(timestamps):\n",
    "    \"\"\" Plot the waveform from packet intervals and decode the binary data. \"\"\"\n",
    "    intervals = np.diff(timestamps)  # Calculate intervals between packet receptions\n",
    "    times = np.cumsum(intervals)  # Calculate cumulative times for plotting\n",
    "    frequencies = 1 / intervals  # Frequency calculation from intervals\n",
    "    \n",
    "    # Plotting the frequency modulation\n",
    "    plt.figure(figsize=(10, 4))\n",
    "    plt.step(times[:-1], frequencies, where='post', label='Frequency vs. Time')\n",
    "    plt.title('Received Frequency Modulation')\n",
    "    plt.xlabel('Time (s)')\n",
    "    plt.ylabel('Frequency (Hz)')\n",
    "    plt.grid(True)\n",
    "    plt.legend()\n",
    "    plt.show()\n",
    "\n",
    "    # Decoding binary data\n",
    "    binary_data = ''\n",
    "    for freq in frequencies:\n",
    "        if np.isclose(freq, 1, atol=0.1):  # Assuming frequency of '0' is around 1 Hz\n",
    "            binary_data += '0'\n",
    "        elif np.isclose(freq, 2, atol=0.1):  # Assuming frequency of '1' is around 2 Hz\n",
    "            binary_data += '1'\n",
    "\n",
    "    print(\"Decoded binary data:\", binary_data)\n",
    "\n",
    "def main():\n",
    "    # Network configuration\n",
    "    global expected_src_ip\n",
    "    expected_src_ip = \"192.168.1.155\"  # Adjust as necessary\n",
    "    listen_port = 12345  # TCP port to listen on\n",
    "\n",
    "    # Start packet sniffing\n",
    "    print(\"Starting TCP packet capture...\")\n",
    "    sniff(filter=f\"tcp and port {listen_port}\", prn=handle_packet, store=False, timeout=10)  # Adjust timeout as needed\n",
    "\n",
    "    # After capture, process and plot, ensure there are enough timestamps\n",
    "    if len(timestamps) > 1:\n",
    "        plot_and_decode_waveform(timestamps)\n",
    "\n",
    "if __name__ == \"__main__\":\n",
    "    main()"
   ]
  }
 ],
 "metadata": {
  "kernelspec": {
   "display_name": "Python 3",
   "language": "python",
   "name": "python3"
  },
  "language_info": {
   "codemirror_mode": {
    "name": "ipython",
    "version": 3
   },
   "file_extension": ".py",
   "mimetype": "text/x-python",
   "name": "python",
   "nbconvert_exporter": "python",
   "pygments_lexer": "ipython3",
   "version": "3.11.9"
  }
 },
 "nbformat": 4,
 "nbformat_minor": 2
}
