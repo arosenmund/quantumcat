{
 "cells": [
  {
   "cell_type": "markdown",
   "metadata": {},
   "source": [
    "## UDP Send with Time Delay Based Phase Shift"
   ]
  },
  {
   "cell_type": "code",
   "execution_count": 13,
   "metadata": {},
   "outputs": [
    {
     "name": "stderr",
     "output_type": "stream",
     "text": [
      "WARNING: Mac address to reach destination not found. Using broadcast.\n"
     ]
    },
    {
     "name": "stdout",
     "output_type": "stream",
     "text": [
      "Sent UDP packet for bit '0' at 3.01s interval\n"
     ]
    },
    {
     "name": "stderr",
     "output_type": "stream",
     "text": [
      "WARNING: Mac address to reach destination not found. Using broadcast.\n"
     ]
    },
    {
     "name": "stdout",
     "output_type": "stream",
     "text": [
      "Sent UDP packet for bit '1' at 3.52s interval\n"
     ]
    },
    {
     "name": "stderr",
     "output_type": "stream",
     "text": [
      "WARNING: Mac address to reach destination not found. Using broadcast.\n"
     ]
    },
    {
     "name": "stdout",
     "output_type": "stream",
     "text": [
      "Sent UDP packet for bit '0' at 3.01s interval\n"
     ]
    },
    {
     "name": "stderr",
     "output_type": "stream",
     "text": [
      "WARNING: Mac address to reach destination not found. Using broadcast.\n"
     ]
    },
    {
     "name": "stdout",
     "output_type": "stream",
     "text": [
      "Sent UDP packet for bit '1' at 3.51s interval\n"
     ]
    },
    {
     "name": "stderr",
     "output_type": "stream",
     "text": [
      "WARNING: Mac address to reach destination not found. Using broadcast.\n"
     ]
    },
    {
     "name": "stdout",
     "output_type": "stream",
     "text": [
      "Sent UDP packet for bit '0' at 3.00s interval\n"
     ]
    },
    {
     "name": "stderr",
     "output_type": "stream",
     "text": [
      "WARNING: Mac address to reach destination not found. Using broadcast.\n"
     ]
    },
    {
     "name": "stdout",
     "output_type": "stream",
     "text": [
      "Sent UDP packet for bit '1' at 3.52s interval\n"
     ]
    },
    {
     "name": "stderr",
     "output_type": "stream",
     "text": [
      "WARNING: Mac address to reach destination not found. Using broadcast.\n"
     ]
    },
    {
     "name": "stdout",
     "output_type": "stream",
     "text": [
      "Sent UDP packet for bit '0' at 3.01s interval\n"
     ]
    },
    {
     "name": "stderr",
     "output_type": "stream",
     "text": [
      "WARNING: Mac address to reach destination not found. Using broadcast.\n"
     ]
    },
    {
     "name": "stdout",
     "output_type": "stream",
     "text": [
      "Sent UDP packet for bit '1' at 3.52s interval\n"
     ]
    },
    {
     "name": "stderr",
     "output_type": "stream",
     "text": [
      "WARNING: Mac address to reach destination not found. Using broadcast.\n"
     ]
    },
    {
     "name": "stdout",
     "output_type": "stream",
     "text": [
      "Sent UDP packet for bit '0' at 3.01s interval\n"
     ]
    },
    {
     "name": "stderr",
     "output_type": "stream",
     "text": [
      "WARNING: Mac address to reach destination not found. Using broadcast.\n"
     ]
    },
    {
     "name": "stdout",
     "output_type": "stream",
     "text": [
      "Sent UDP packet for bit '1' at 3.51s interval\n"
     ]
    },
    {
     "name": "stderr",
     "output_type": "stream",
     "text": [
      "WARNING: Mac address to reach destination not found. Using broadcast.\n"
     ]
    },
    {
     "name": "stdout",
     "output_type": "stream",
     "text": [
      "Sent UDP packet for bit '0' at 3.01s interval\n"
     ]
    },
    {
     "name": "stderr",
     "output_type": "stream",
     "text": [
      "WARNING: Mac address to reach destination not found. Using broadcast.\n"
     ]
    },
    {
     "name": "stdout",
     "output_type": "stream",
     "text": [
      "Sent UDP packet for bit '1' at 3.52s interval\n"
     ]
    },
    {
     "name": "stderr",
     "output_type": "stream",
     "text": [
      "WARNING: Mac address to reach destination not found. Using broadcast.\n"
     ]
    },
    {
     "name": "stdout",
     "output_type": "stream",
     "text": [
      "Sent UDP packet for bit '0' at 3.01s interval\n"
     ]
    },
    {
     "name": "stderr",
     "output_type": "stream",
     "text": [
      "WARNING: Mac address to reach destination not found. Using broadcast.\n"
     ]
    },
    {
     "name": "stdout",
     "output_type": "stream",
     "text": [
      "Sent UDP packet for bit '1' at 3.51s interval\n"
     ]
    },
    {
     "name": "stderr",
     "output_type": "stream",
     "text": [
      "WARNING: Mac address to reach destination not found. Using broadcast.\n"
     ]
    },
    {
     "name": "stdout",
     "output_type": "stream",
     "text": [
      "Sent UDP packet for bit '0' at 3.02s interval\n"
     ]
    },
    {
     "name": "stderr",
     "output_type": "stream",
     "text": [
      "WARNING: Mac address to reach destination not found. Using broadcast.\n"
     ]
    },
    {
     "name": "stdout",
     "output_type": "stream",
     "text": [
      "Sent UDP packet for bit '1' at 3.52s interval\n"
     ]
    }
   ],
   "source": [
    "from scapy.all import Ether, IP, UDP, send, sendp\n",
    "import time\n",
    "\n",
    "def send_phase_modulated_udp_packets(target_ip, data, target_port=12345, base_interval=1):\n",
    "    \"\"\"\n",
    "    Send UDP packets using phase modulation to a target IP.\n",
    "\n",
    "    Args:\n",
    "    target_ip (str): IP address of the target.\n",
    "    data (str): Binary data where '0' = no shift, '1' = phase shift.\n",
    "    target_port (int): Target port number for UDP packets.\n",
    "    base_interval (float): Base interval in seconds between packets.\n",
    "    \"\"\"\n",
    "    last_time = time.time()\n",
    "    \n",
    "    for bit in data:\n",
    "        if bit == '1':\n",
    "            # Introduce a phase shift by delaying the packet\n",
    "            time.sleep(base_interval * 1.5)\n",
    "        else:\n",
    "            time.sleep(base_interval)\n",
    "        \n",
    "        # Send a simple UDP packet\n",
    "        send(IP(dst=target_ip)/UDP(dport=target_port), verbose=False)\n",
    "        print(f\"Sent UDP packet for bit '{bit}' at {time.time() - last_time:.2f}s interval\")\n",
    "        last_time = time.time()\n",
    "\n",
    "# Example usage:\n",
    "target_ip = \"192.168.1.100\"\n",
    "data = '0101010101010101'\n",
    "send_phase_modulated_udp_packets(target_ip, data)"
   ]
  },
  {
   "cell_type": "markdown",
   "metadata": {},
   "source": [
    "## Phase Shift by Port Number"
   ]
  },
  {
   "cell_type": "code",
   "execution_count": 3,
   "metadata": {},
   "outputs": [
    {
     "name": "stderr",
     "output_type": "stream",
     "text": [
      "WARNING: Mac address to reach destination not found. Using broadcast.\n"
     ]
    },
    {
     "name": "stdout",
     "output_type": "stream",
     "text": [
      "Sent UDP packet to port 12345 for bit '0'\n"
     ]
    },
    {
     "name": "stderr",
     "output_type": "stream",
     "text": [
      "WARNING: Mac address to reach destination not found. Using broadcast.\n"
     ]
    },
    {
     "name": "stdout",
     "output_type": "stream",
     "text": [
      "Sent UDP packet to port 12346 for bit '1'\n"
     ]
    },
    {
     "name": "stderr",
     "output_type": "stream",
     "text": [
      "WARNING: Mac address to reach destination not found. Using broadcast.\n"
     ]
    },
    {
     "name": "stdout",
     "output_type": "stream",
     "text": [
      "Sent UDP packet to port 12345 for bit '0'\n"
     ]
    },
    {
     "name": "stderr",
     "output_type": "stream",
     "text": [
      "WARNING: Mac address to reach destination not found. Using broadcast.\n"
     ]
    },
    {
     "name": "stdout",
     "output_type": "stream",
     "text": [
      "Sent UDP packet to port 12346 for bit '1'\n"
     ]
    },
    {
     "name": "stderr",
     "output_type": "stream",
     "text": [
      "WARNING: Mac address to reach destination not found. Using broadcast.\n"
     ]
    },
    {
     "name": "stdout",
     "output_type": "stream",
     "text": [
      "Sent UDP packet to port 12345 for bit '0'\n"
     ]
    },
    {
     "name": "stderr",
     "output_type": "stream",
     "text": [
      "WARNING: Mac address to reach destination not found. Using broadcast.\n"
     ]
    },
    {
     "name": "stdout",
     "output_type": "stream",
     "text": [
      "Sent UDP packet to port 12346 for bit '1'\n"
     ]
    },
    {
     "name": "stderr",
     "output_type": "stream",
     "text": [
      "WARNING: Mac address to reach destination not found. Using broadcast.\n"
     ]
    },
    {
     "name": "stdout",
     "output_type": "stream",
     "text": [
      "Sent UDP packet to port 12345 for bit '0'\n"
     ]
    },
    {
     "name": "stderr",
     "output_type": "stream",
     "text": [
      "WARNING: Mac address to reach destination not found. Using broadcast.\n"
     ]
    },
    {
     "name": "stdout",
     "output_type": "stream",
     "text": [
      "Sent UDP packet to port 12346 for bit '1'\n"
     ]
    },
    {
     "name": "stderr",
     "output_type": "stream",
     "text": [
      "WARNING: Mac address to reach destination not found. Using broadcast.\n"
     ]
    },
    {
     "name": "stdout",
     "output_type": "stream",
     "text": [
      "Sent UDP packet to port 12345 for bit '0'\n"
     ]
    },
    {
     "name": "stderr",
     "output_type": "stream",
     "text": [
      "WARNING: Mac address to reach destination not found. Using broadcast.\n"
     ]
    },
    {
     "name": "stdout",
     "output_type": "stream",
     "text": [
      "Sent UDP packet to port 12346 for bit '1'\n"
     ]
    },
    {
     "name": "stderr",
     "output_type": "stream",
     "text": [
      "WARNING: Mac address to reach destination not found. Using broadcast.\n"
     ]
    },
    {
     "name": "stdout",
     "output_type": "stream",
     "text": [
      "Sent UDP packet to port 12345 for bit '0'\n"
     ]
    },
    {
     "name": "stderr",
     "output_type": "stream",
     "text": [
      "WARNING: Mac address to reach destination not found. Using broadcast.\n"
     ]
    },
    {
     "name": "stdout",
     "output_type": "stream",
     "text": [
      "Sent UDP packet to port 12346 for bit '1'\n"
     ]
    },
    {
     "name": "stderr",
     "output_type": "stream",
     "text": [
      "WARNING: Mac address to reach destination not found. Using broadcast.\n"
     ]
    },
    {
     "name": "stdout",
     "output_type": "stream",
     "text": [
      "Sent UDP packet to port 12345 for bit '0'\n"
     ]
    },
    {
     "name": "stderr",
     "output_type": "stream",
     "text": [
      "WARNING: Mac address to reach destination not found. Using broadcast.\n"
     ]
    },
    {
     "name": "stdout",
     "output_type": "stream",
     "text": [
      "Sent UDP packet to port 12346 for bit '1'\n"
     ]
    },
    {
     "name": "stderr",
     "output_type": "stream",
     "text": [
      "WARNING: Mac address to reach destination not found. Using broadcast.\n"
     ]
    },
    {
     "name": "stdout",
     "output_type": "stream",
     "text": [
      "Sent UDP packet to port 12345 for bit '0'\n"
     ]
    },
    {
     "name": "stderr",
     "output_type": "stream",
     "text": [
      "WARNING: Mac address to reach destination not found. Using broadcast.\n"
     ]
    },
    {
     "name": "stdout",
     "output_type": "stream",
     "text": [
      "Sent UDP packet to port 12346 for bit '1'\n"
     ]
    }
   ],
   "source": [
    "from scapy.all import IP, UDP, send\n",
    "import time\n",
    "\n",
    "def send_port_modulated_udp_packets(target_ip, data, base_port=12345):\n",
    "    \"\"\"\n",
    "    Send UDP packets using different ports to simulate phase modulation.\n",
    "\n",
    "    Args:\n",
    "    target_ip (str): IP address of the target.\n",
    "    data (str): Binary data where '0' = base_port, '1' = base_port + 1.\n",
    "    \"\"\"\n",
    "    port_mapping = {'0': base_port, '1': base_port + 1}\n",
    "\n",
    "    for bit in data:\n",
    "        port = port_mapping[bit]\n",
    "        packet = IP(dst=target_ip)/UDP(dport=port)\n",
    "        send(packet, verbose=False)\n",
    "        print(f\"Sent UDP packet to port {port} for bit '{bit}'\")\n",
    "        time.sleep(1)  # Delay to simulate time between transmissions\n",
    "\n",
    "# Example usage:\n",
    "target_ip = \"192.168.1.100\"\n",
    "data = '0101010101010101'\n",
    "send_port_modulated_udp_packets(target_ip, data)"
   ]
  }
 ],
 "metadata": {
  "kernelspec": {
   "display_name": "Python 3",
   "language": "python",
   "name": "python3"
  },
  "language_info": {
   "codemirror_mode": {
    "name": "ipython",
    "version": 3
   },
   "file_extension": ".py",
   "mimetype": "text/x-python",
   "name": "python",
   "nbconvert_exporter": "python",
   "pygments_lexer": "ipython3",
   "version": "3.11.9"
  }
 },
 "nbformat": 4,
 "nbformat_minor": 2
}
